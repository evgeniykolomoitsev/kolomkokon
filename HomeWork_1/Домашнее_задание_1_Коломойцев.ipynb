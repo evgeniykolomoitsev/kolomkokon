{
 "cells": [
  {
   "cell_type": "code",
   "execution_count": 3,
   "metadata": {},
   "outputs": [],
   "source": [
    "import pandas as pd"
   ]
  },
  {
   "cell_type": "code",
   "execution_count": 5,
   "metadata": {},
   "outputs": [],
   "source": [
    "##Задание 1: Переменные"
   ]
  },
  {
   "cell_type": "code",
   "execution_count": 25,
   "metadata": {},
   "outputs": [
    {
     "name": "stdout",
     "output_type": "stream",
     "text": [
      "Фраза1 длинее Фразы2\n"
     ]
    }
   ],
   "source": [
    "phrase_1 = 'Насколько проще было бы писать программы, если бы не заказчики'\n",
    "phrase_2 = '640Кб должно хватить для любых задач.Билл Гейтс (по легенде)'\n",
    "\n",
    "if  phrase_1 > phrase_2:\n",
    "    print ('Фраза1 длинее Фразы2')\n",
    "else:\n",
    "    print ('Фраза 2 длинее Фразы 1')\n",
    " "
   ]
  },
  {
   "cell_type": "code",
   "execution_count": 26,
   "metadata": {},
   "outputs": [
    {
     "name": "stdout",
     "output_type": "stream",
     "text": [
      "Фраза 2 длинее Фразы 1\n"
     ]
    }
   ],
   "source": [
    "phrase_1 = '640Кб должно хватить для любых задач.Билл Гейтс (по легенде)'\n",
    "phrase_2 = 'Насколько проще было бы писать программы, если бы не заказчики'\n",
    "\n",
    "if  phrase_1 > phrase_2:\n",
    "    print ('Фраза1 длинее Фразы2')\n",
    "else:\n",
    "    print ('Фраза 2 длинее Фразы 1')"
   ]
  },
  {
   "cell_type": "code",
   "execution_count": 79,
   "metadata": {},
   "outputs": [
    {
     "name": "stdout",
     "output_type": "stream",
     "text": [
      "Фразы равной длины\n"
     ]
    }
   ],
   "source": [
    "phrase_1 = 'Насколько проще было бы писать программы, если бы не заказчики'\n",
    "phrase_2 = 'Насколько проще было бы писать программы, если бы не заказчики'\n",
    "\n",
    "if  phrase_1 > phrase_2:\n",
    "    print ('Фраза1 длинее Фразы2')\n",
    "else:\n",
    "    print ('Фразы равной длины')"
   ]
  },
  {
   "cell_type": "code",
   "execution_count": null,
   "metadata": {},
   "outputs": [],
   "source": [
    "## Задание 2: Високосный год"
   ]
  },
  {
   "cell_type": "code",
   "execution_count": 11,
   "metadata": {},
   "outputs": [],
   "source": [
    "year = 2021"
   ]
  },
  {
   "cell_type": "code",
   "execution_count": 10,
   "metadata": {},
   "outputs": [
    {
     "name": "stdout",
     "output_type": "stream",
     "text": [
      "Обычный год\n"
     ]
    }
   ],
   "source": [
    "year = 2021\n",
    "if year % 4 == 0:\n",
    "    print ('Високосный год')\n",
    "elif year % 100 == 0:\n",
    "    print ('Високосный год')\n",
    "elif year % 400 == 0:\n",
    "    print ('Високосный год')\n",
    "else:\n",
    "    print ('Обычный год')"
   ]
  },
  {
   "cell_type": "code",
   "execution_count": null,
   "metadata": {},
   "outputs": [],
   "source": [
    "## Задание 3: Гороскоп"
   ]
  },
  {
   "cell_type": "code",
   "execution_count": 78,
   "metadata": {},
   "outputs": [
    {
     "name": "stdout",
     "output_type": "stream",
     "text": [
      "введите месяц2\n",
      "введите день12\n",
      "Водолей\n"
     ]
    }
   ],
   "source": [
    "Month = input ('введите месяц')\n",
    "Day = input ('введите день')\n",
    "if ((int(Month)==12 and int(Day) >= 22)or(int(Month)==1 and int(Day)<= 19)):\n",
    "    zodiac_sign = ('Козерог')\n",
    "    print(zodiac_sign)\n",
    "elif ((int(Month)==1 and int(Day) >= 20)or(int(Month)==2 and int(Day)<= 17)):\n",
    "    zodiac_sign = ('Водолей')\n",
    "    print(zodiac_sign)\n",
    "elif ((int(Month)==2 and int(Day) >= 18)or(int(Month)==3 and int(Day)<= 19)):\n",
    "    zodiac_sign = ('Рыбы')\n",
    "    print(zodiac_sign)\n",
    "elif ((int(Month)==3 and int(Day) >= 20)or(int(Month)==4 and int(Day)<= 19)):\n",
    "    zodiac_sign = ('Овен')\n",
    "    print(zodiac_sign)\n",
    "elif ((int(Month)==4 and int(Day) >= 20)or(int(Month)==5 and int(Day)<= 20)):\n",
    "    zodiac_sign = ('Телец')\n",
    "    print(zodiac_sign)\n",
    "elif ((int(Month)==5 and int(Day) >= 21)or(int(Month)==6 and int(Day)<= 20)):\n",
    "    zodiac_sign = ('Близнецы')\n",
    "    print(zodiac_sign)\n",
    "elif ((int(Month)==6 and int(Day) >= 21)or(int(Month)==7 and int(Day)<= 22)):\n",
    "    zodiac_sign = ('Рак')\n",
    "    print(zodiac_sign)\n",
    "elif ((int(Month)==7 and int(Day) >= 23)or(int(Month)==8 and int(Day)<= 22)): \n",
    "    zodiac_sign = ('Лев')\n",
    "    print(zodiac_sign)\n",
    "elif ((int(Month)==8 and int(Day) >= 23)or(int(Month)==9 and int(Day)<= 22)): \n",
    "    Signo_Zodiacal = ('Дева')\n",
    "    print(zodiac_sign)\n",
    "elif ((int(Month)==9 and int(Day) >= 23)or(int(Month)==10 and int(Day)<= 22)):\n",
    "    zodiac_sign = ('Весы')\n",
    "    print(zodiac_sign)\n",
    "elif ((int(Month)==10 and int(Day) >= 23)or(int(Month)==11 and int(Day)<= 21)):             \n",
    "    zodiac_sign = ('Скорпион')\n",
    "    print(zodiac_sign)\n",
    "elif ((int(Month)==11 and int(Day) >= 22)or(int(Month)==12 and int(Day)<= 21)):\n",
    "    zodiac_sign = ('Стрелец')\n",
    "    print(zodiac_sign)\n"
   ]
  },
  {
   "cell_type": "code",
   "execution_count": null,
   "metadata": {},
   "outputs": [],
   "source": [
    "## Задание 4: Гороскоп"
   ]
  },
  {
   "cell_type": "code",
   "execution_count": 86,
   "metadata": {},
   "outputs": [
    {
     "name": "stdout",
     "output_type": "stream",
     "text": [
      "стандартная коробка № 3\n"
     ]
    }
   ],
   "source": [
    "width = 10\n",
    "length = 205\n",
    "height = 5\n",
    "\n",
    "if length > 200:\n",
    "    print ('Упаковка для лыж')\n",
    "elif width < 15 and length < 15 and height <15:\n",
    "    print ('Коробка № 1')\n",
    "elif width < 50 and length < 50 and height < 50:\n",
    "    print ('Коробка № 2')\n",
    "else:\n",
    "    print ('стандартная коробка № 3')"
   ]
  },
  {
   "cell_type": "code",
   "execution_count": null,
   "metadata": {},
   "outputs": [],
   "source": []
  }
 ],
 "metadata": {
  "kernelspec": {
   "display_name": "Python 3",
   "language": "python",
   "name": "python3"
  },
  "language_info": {
   "codemirror_mode": {
    "name": "ipython",
    "version": 3
   },
   "file_extension": ".py",
   "mimetype": "text/x-python",
   "name": "python",
   "nbconvert_exporter": "python",
   "pygments_lexer": "ipython3",
   "version": "3.8.5"
  }
 },
 "nbformat": 4,
 "nbformat_minor": 4
}
